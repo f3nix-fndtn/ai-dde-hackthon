{
 "cells": [
  {
   "cell_type": "markdown",
   "metadata": {},
   "source": [
    "# PDF Cleaning and Processing"
   ]
  },
  {
   "cell_type": "code",
   "execution_count": null,
   "metadata": {},
   "outputs": [],
   "source": [
    "import os\n",
    "from google.colab import drive\n",
    "# Mount Google Drive\n",
    "drive.mount('/content/drive')\n",
    "# Create documents folder\n",
    "DOCUMENTS_PATH = '/content/drive/MyDrive/legal_documents'\n",
    "if not os.path.exists(DOCUMENTS_PATH):\n",
    "    os.makedirs(DOCUMENTS_PATH)"
   ]
  },
  {
   "cell_type": "code",
   "execution_count": null,
   "metadata": {},
   "outputs": [],
   "source": [
    "! pip install pdfplumber pymupdf"
   ]
  },
  {
   "cell_type": "markdown",
   "metadata": {},
   "source": [
    "This is a test file for cleaning and metadata extractions. It needs updated to be a complete pipeline."
   ]
  },
  {
   "cell_type": "code",
   "execution_count": null,
   "metadata": {},
   "outputs": [],
   "source": [
    "import pdfplumber\n",
    "import re\n",
    "import fitz  # PyMuPDF\n",
    "\n",
    "class PDFProccessor:\n",
    "\n",
    "  pdf_path = None\n",
    "\n",
    "  def __init__(self, pdf_path):\n",
    "    self.pdf_path = pdf_path\n",
    "    pass\n",
    "\n",
    "  def process_pdf(self):\n",
    "    text = self.open_pdf()\n",
    "    print(self.remove_page_numbers(text))\n",
    "\n",
    "  def open_pdf(self):\n",
    "    with pdfplumber.open(self.pdf_path) as pdf:\n",
    "        text = \"\"\n",
    "        for page in pdf.pages:\n",
    "            text += page.extract_text() + \"\\n\"\n",
    "    return text\n",
    "\n",
    "  def remove_page_numbers(self, text):\n",
    "    extrapolations_pattern = r\"^\\s*THE\\s+EXTRAPOLATIONS\\s+DOCUMENT(?:\\s*\\n\\s*|\\s+)*\\d+\\s*$\"\n",
    "    dangling_page_number = r\"^\\s*\\d+\\s*$\"\n",
    "    clean_text = re.sub(extrapolations_pattern, \"\", text, flags=re.MULTILINE)\n",
    "    return re.sub(dangling_page_number, \"\", clean_text, flags=re.MULTILINE)\n",
    "\n",
    "  def pdf_to_markdown_with_headings(self):\n",
    "      doc = fitz.open(self.pdf_path)\n",
    "      markdown_content = \"\"\n",
    "\n",
    "      for page in doc:\n",
    "          blocks = page.get_text(\"blocks\")\n",
    "          for block in blocks:\n",
    "              text, font_size = block[4], block[3]\n",
    "              if font_size > 350:  # Heuristic for headings\n",
    "                  markdown_content += f\"# {text.strip()}\\n\\n\"\n",
    "              else:\n",
    "                  markdown_content += f\"{text.strip()}\\n\\n\"\n",
    "      return markdown_content\n",
    "\n",
    "  # def save(self):\n",
    "  #   with open(\"output.md\", \"w\") as file:\n",
    "  #     file.write(markdown_content)\n",
    "\n",
    "\n",
    "\n",
    "# def pdf_to_markdown_with_headings(pdf_path):\n",
    "#     with pdfplumber.open(pdf_path) as pdf:\n",
    "#         markdown_content = \"\"\n",
    "#         for page in pdf.pages:\n",
    "#             for block in page.extract_text().split(\"\\n\"):\n",
    "#                 # Heuristic to detect headings (e.g., uppercase or bold text)\n",
    "#                 if block.isupper():\n",
    "#                     markdown_content += f\"# {block}\\n\\n\"\n",
    "#                 else:\n",
    "#                     markdown_content += f\"{block}\\n\\n\"\n",
    "#     return markdown_content\n",
    "\n",
    "# Save the output to a Markdown file\n",
    "leiden_guidelines = DOCUMENTS_PATH + \"/Leiden Guidelines on the Use of DDE in ICCTs_20220404.pdf\"\n",
    "case_summaries = '/content/drive/MyDrive/legal_documents/Case Summaries-The Use of DDE before ICCTs.pdf'\n",
    "dde  = '/content/drive/MyDrive/legal_documents/DDE in ICL.pdf'\n",
    "extrapolations = '/content/drive/MyDrive/legal_documents/Extrapolations from Case Law on DDE in ICCTs_20220405.pdf'\n",
    "fact_finding = '/content/drive/MyDrive/legal_documents/Fact-Finding-Missions.pdf'\n",
    "\n",
    "pdf_proccessor = PDFProccessor(pdf_path= extrapolations)\n",
    "\n",
    "print(pdf_proccessor.process_pdf())\n"
   ]
  }
 ],
 "metadata": {
  "kernelspec": {
   "display_name": "3.12.1",
   "language": "python",
   "name": "python3"
  },
  "language_info": {
   "codemirror_mode": {
    "name": "ipython",
    "version": 3
   },
   "file_extension": ".py",
   "mimetype": "text/x-python",
   "name": "python",
   "nbconvert_exporter": "python",
   "pygments_lexer": "ipython3",
   "version": "3.12.1"
  }
 },
 "nbformat": 4,
 "nbformat_minor": 2
}
